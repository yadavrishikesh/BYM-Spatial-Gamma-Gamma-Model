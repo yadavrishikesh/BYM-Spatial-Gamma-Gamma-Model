{
  "nbformat": 4,
  "nbformat_minor": 0,
  "metadata": {
    "colab": {
      "provenance": [],
      "authorship_tag": "ABX9TyM1tU4skSmdMqHMkFaI1Hoy",
      "include_colab_link": true
    },
    "kernelspec": {
      "name": "python3",
      "display_name": "Python 3"
    },
    "language_info": {
      "name": "python"
    }
  },
  "cells": [
    {
      "cell_type": "markdown",
      "metadata": {
        "id": "view-in-github",
        "colab_type": "text"
      },
      "source": [
        "<a href=\"https://colab.research.google.com/github/yadavrishikesh/BYM-Spatial-Gamma-Gamma-Model/blob/main/Portland_all_predictions.ipynb\" target=\"_parent\"><img src=\"https://colab.research.google.com/assets/colab-badge.svg\" alt=\"Open In Colab\"/></a>"
      ]
    },
    {
      "cell_type": "code",
      "execution_count": null,
      "metadata": {
        "id": "sybQi1xE9umd"
      },
      "outputs": [],
      "source": [
        "# Import necessary libraries\n",
        "import jax\n",
        "import warnings\n",
        "warnings.simplefilter('ignore')\n",
        "\n",
        "import contextily as ctx\n",
        "import geopandas as gpd\n",
        "import jax\n",
        "import numpy as np\n",
        "import pandas as pd\n",
        "from bayesnf.spatiotemporal import BayesianNeuralFieldMAP\n",
        "\n",
        "# Function to run the model and return the predictions DataFrame\n",
        "def run_bayesian_model(train_file, test_file, output_file):\n",
        "    # Load the train dataset\n",
        "    df_train = pd.read_csv(train_file, index_col=0, parse_dates=['datetime'])\n",
        "\n",
        "    # Log-transform the response variable\n",
        "    df_train_log = df_train.copy()\n",
        "    df_train_log['response'] = np.log1p(df_train_log['response'])\n",
        "\n",
        "    # Define the model\n",
        "    model = BayesianNeuralFieldMAP(\n",
        "        width=512,\n",
        "        depth=2,\n",
        "        freq='D',\n",
        "        seasonality_periods=['W'],  # Weekly seasonality\n",
        "        num_seasonal_harmonics=[2], # 2 harmonics\n",
        "        feature_cols=['datetime', 'lat', 'lon', 'speed', 'occupancy'], # Features\n",
        "        target_col='response',      # Target column\n",
        "    )\n",
        "\n",
        "    # Train the model\n",
        "    model = model.fit(\n",
        "        df_train,\n",
        "        seed=jax.random.PRNGKey(0),\n",
        "        ensemble_size=5,\n",
        "        num_epochs=500,\n",
        "    )\n",
        "\n",
        "    # Load the test dataset\n",
        "    df_test = pd.read_csv(test_file, index_col=0, parse_dates=['datetime'])\n",
        "\n",
        "    # Clean the test data by removing rows with NA in the response column\n",
        "    df_test_cleaned = df_test.dropna(subset=['response'])\n",
        "\n",
        "    # Predict on test data\n",
        "    yhat, yhat_quantiles = model.predict(df_test_cleaned, quantiles=(0.025, 0.5, 0.975))\n",
        "\n",
        "    # Create the predictions DataFrame with required columns\n",
        "    predictions_df = pd.DataFrame({\n",
        "        'datetime': df_test_cleaned['datetime'],\n",
        "        'True_Values': df_test_cleaned['response'],\n",
        "        'Predicted_Mean': yhat_quantiles[1],  # 0.5 quantile (median)\n",
        "        '0.025_Quantile': yhat_quantiles[0],\n",
        "        '0.975_Quantile': yhat_quantiles[2]\n",
        "    })\n",
        "\n",
        "    # Save the DataFrame to CSV\n",
        "    predictions_df.to_csv(output_file, index=False)\n",
        "    print(f\"Predictions saved to {output_file}\")\n",
        "\n",
        "    return predictions_df\n",
        "\n",
        "# Example usage\n",
        "predictions_df = run_bayesian_model(\n",
        "    train_file='train_data_Portland_pred-type_spatIntpl.csv',\n",
        "    test_file='test_data_Portland_pred-type_spatIntpl.csv',\n",
        "    output_file='predictions_output.csv'\n",
        ")\n",
        "\n",
        "# Display the first few rows of the resulting predictions DataFrame\n",
        "predictions_df.head()\n"
      ]
    },
    {
      "cell_type": "code",
      "source": [],
      "metadata": {
        "id": "xJlwUkDB9yJn"
      },
      "execution_count": null,
      "outputs": []
    }
  ]
}